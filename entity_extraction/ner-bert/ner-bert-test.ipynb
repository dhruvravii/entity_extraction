{
 "cells": [
  {
   "cell_type": "code",
   "execution_count": 8,
   "id": "ba0d1a4d",
   "metadata": {},
   "outputs": [
    {
     "data": {
      "application/vnd.jupyter.widget-view+json": {
       "model_id": "3ab0607835ee4a529efa8410afb6511d",
       "version_major": 2,
       "version_minor": 0
      },
      "text/plain": [
       "Downloading (…)okenizer_config.json:   0%|          | 0.00/29.0 [00:00<?, ?B/s]"
      ]
     },
     "metadata": {},
     "output_type": "display_data"
    },
    {
     "name": "stderr",
     "output_type": "stream",
     "text": [
      "C:\\Users\\Dhruv\\anaconda3\\lib\\site-packages\\huggingface_hub\\file_download.py:133: UserWarning: `huggingface_hub` cache-system uses symlinks by default to efficiently store duplicated files but your machine does not support them in C:\\Users\\Dhruv\\.cache\\huggingface\\hub. Caching files will still work but in a degraded version that might require more space on your disk. This warning can be disabled by setting the `HF_HUB_DISABLE_SYMLINKS_WARNING` environment variable. For more details, see https://huggingface.co/docs/huggingface_hub/how-to-cache#limitations.\n",
      "To support symlinks on Windows, you either need to activate Developer Mode or to run Python as an administrator. In order to see activate developer mode, see this article: https://docs.microsoft.com/en-us/windows/apps/get-started/enable-your-device-for-development\n",
      "  warnings.warn(message)\n"
     ]
    },
    {
     "data": {
      "application/vnd.jupyter.widget-view+json": {
       "model_id": "0b07fe4b4353443aa03da365664515cd",
       "version_major": 2,
       "version_minor": 0
      },
      "text/plain": [
       "Downloading (…)lve/main/config.json:   0%|          | 0.00/570 [00:00<?, ?B/s]"
      ]
     },
     "metadata": {},
     "output_type": "display_data"
    },
    {
     "data": {
      "application/vnd.jupyter.widget-view+json": {
       "model_id": "5347a94c79f64d959fa855b2c06bebaa",
       "version_major": 2,
       "version_minor": 0
      },
      "text/plain": [
       "Downloading (…)solve/main/vocab.txt:   0%|          | 0.00/213k [00:00<?, ?B/s]"
      ]
     },
     "metadata": {},
     "output_type": "display_data"
    },
    {
     "data": {
      "application/vnd.jupyter.widget-view+json": {
       "model_id": "f10c6cf7365a4fe292729918d9847a31",
       "version_major": 2,
       "version_minor": 0
      },
      "text/plain": [
       "Downloading (…)/main/tokenizer.json:   0%|          | 0.00/436k [00:00<?, ?B/s]"
      ]
     },
     "metadata": {},
     "output_type": "display_data"
    }
   ],
   "source": [
    "from transformers import AutoTokenizer, AutoModelForTokenClassification\n",
    "from transformers import pipeline\n",
    "\n",
    "tokenizer = AutoTokenizer.from_pretrained(\"bert-base-cased\")\n",
    "model = AutoModelForTokenClassification.from_pretrained(\"dslim/bert-base-NER\")\n",
    "\n"
   ]
  },
  {
   "cell_type": "code",
   "execution_count": 19,
   "id": "edb0ad98",
   "metadata": {},
   "outputs": [
    {
     "name": "stdout",
     "output_type": "stream",
     "text": [
      "{'entity': 'I-ORG', 'score': 0.8245272, 'index': 3, 'word': 'DE', 'start': 4, 'end': 6}\n",
      "{'entity': 'B-ORG', 'score': 0.52168685, 'index': 14, 'word': 'Dal', 'start': 33, 'end': 36}\n",
      "{'entity': 'I-ORG', 'score': 0.9821968, 'index': 15, 'word': '##al', 'start': 36, 'end': 38}\n",
      "{'entity': 'I-ORG', 'score': 0.9644283, 'index': 16, 'word': 'Street', 'start': 39, 'end': 45}\n",
      "{'entity': 'B-MISC', 'score': 0.78110546, 'index': 45, 'word': 'IP', 'start': 184, 'end': 186}\n",
      "{'entity': 'B-ORG', 'score': 0.99638015, 'index': 92, 'word': 'L', 'start': 369, 'end': 370}\n",
      "{'entity': 'I-ORG', 'score': 0.9623303, 'index': 93, 'word': '##IC', 'start': 370, 'end': 372}\n",
      "{'entity': 'B-LOC', 'score': 0.99944204, 'index': 163, 'word': 'India', 'start': 692, 'end': 697}\n",
      "{'entity': 'B-PER', 'score': 0.9994803, 'index': 202, 'word': 'Nik', 'start': 851, 'end': 854}\n",
      "{'entity': 'I-PER', 'score': 0.9812785, 'index': 203, 'word': '##hil', 'start': 854, 'end': 857}\n",
      "{'entity': 'I-PER', 'score': 0.99971265, 'index': 204, 'word': 'Ka', 'start': 858, 'end': 860}\n",
      "{'entity': 'I-PER', 'score': 0.998574, 'index': 205, 'word': '##mat', 'start': 860, 'end': 863}\n",
      "{'entity': 'I-PER', 'score': 0.96421504, 'index': 206, 'word': '##h', 'start': 863, 'end': 864}\n",
      "{'entity': 'B-ORG', 'score': 0.9958973, 'index': 212, 'word': 'True', 'start': 880, 'end': 884}\n",
      "{'entity': 'I-ORG', 'score': 0.9963085, 'index': 213, 'word': 'Beacon', 'start': 885, 'end': 891}\n",
      "{'entity': 'B-ORG', 'score': 0.9759051, 'index': 215, 'word': 'Zero', 'start': 896, 'end': 900}\n",
      "{'entity': 'I-ORG', 'score': 0.97106725, 'index': 216, 'word': '##dha', 'start': 900, 'end': 903}\n",
      "{'entity': 'B-PER', 'score': 0.9995378, 'index': 218, 'word': 'Vin', 'start': 904, 'end': 907}\n",
      "{'entity': 'B-PER', 'score': 0.9300542, 'index': 219, 'word': '##od', 'start': 907, 'end': 909}\n",
      "{'entity': 'I-PER', 'score': 0.9995308, 'index': 220, 'word': 'Nair', 'start': 910, 'end': 914}\n",
      "{'entity': 'B-ORG', 'score': 0.6144144, 'index': 224, 'word': 'Research', 'start': 924, 'end': 932}\n",
      "{'entity': 'B-ORG', 'score': 0.9932274, 'index': 226, 'word': 'G', 'start': 936, 'end': 937}\n",
      "{'entity': 'I-ORG', 'score': 0.912134, 'index': 227, 'word': '##eo', 'start': 937, 'end': 939}\n",
      "{'entity': 'I-ORG', 'score': 0.9944449, 'index': 228, 'word': '##jit', 'start': 939, 'end': 942}\n",
      "{'entity': 'I-ORG', 'score': 0.99831057, 'index': 229, 'word': 'Financial', 'start': 943, 'end': 952}\n",
      "{'entity': 'I-ORG', 'score': 0.9979861, 'index': 230, 'word': 'Services', 'start': 953, 'end': 961}\n",
      "{'entity': 'B-LOC', 'score': 0.9964839, 'index': 270, 'word': 'India', 'start': 1131, 'end': 1136}\n",
      "{'entity': 'B-ORG', 'score': 0.99558663, 'index': 325, 'word': 'Prime', 'start': 1374, 'end': 1379}\n",
      "{'entity': 'I-ORG', 'score': 0.99097836, 'index': 326, 'word': 'Database', 'start': 1380, 'end': 1388}\n",
      "{'entity': 'B-ORG', 'score': 0.9982206, 'index': 374, 'word': 'K', 'start': 1591, 'end': 1592}\n",
      "{'entity': 'I-ORG', 'score': 0.9909174, 'index': 375, 'word': '##F', 'start': 1592, 'end': 1593}\n",
      "{'entity': 'I-ORG', 'score': 0.9298117, 'index': 376, 'word': '##in', 'start': 1593, 'end': 1595}\n",
      "{'entity': 'I-ORG', 'score': 0.99862194, 'index': 377, 'word': 'Technologies', 'start': 1596, 'end': 1608}\n",
      "{'entity': 'B-ORG', 'score': 0.9989241, 'index': 379, 'word': 'Eli', 'start': 1613, 'end': 1616}\n",
      "{'entity': 'I-ORG', 'score': 0.9958841, 'index': 380, 'word': '##n', 'start': 1616, 'end': 1617}\n",
      "{'entity': 'I-ORG', 'score': 0.9989567, 'index': 381, 'word': 'Electronics', 'start': 1618, 'end': 1629}\n",
      "[0, 2, 3, 6, 9, 10, 11, 12, 14, 16, 19, 22, 23, 24, 25, 28, 30, 31, 32, 34, 35]\n",
      "{'entity': 'B-ORG', 'score': 0.52168685, 'index': 14, 'word': 'DalalStreet', 'start': 33, 'end': 36}\n",
      "{'entity': 'B-MISC', 'score': 0.78110546, 'index': 45, 'word': 'IP', 'start': 184, 'end': 186}\n",
      "{'entity': 'B-ORG', 'score': 0.99638015, 'index': 92, 'word': 'LIC', 'start': 369, 'end': 370}\n",
      "{'entity': 'B-LOC', 'score': 0.99944204, 'index': 163, 'word': 'India', 'start': 692, 'end': 697}\n",
      "{'entity': 'B-PER', 'score': 0.9994803, 'index': 202, 'word': 'NikhilKamath', 'start': 851, 'end': 854}\n",
      "{'entity': 'B-ORG', 'score': 0.9958973, 'index': 212, 'word': 'TrueBeacon', 'start': 880, 'end': 884}\n",
      "{'entity': 'B-ORG', 'score': 0.9759051, 'index': 215, 'word': 'Zerodha', 'start': 896, 'end': 900}\n",
      "{'entity': 'B-PER', 'score': 0.9995378, 'index': 218, 'word': 'Vin', 'start': 904, 'end': 907}\n",
      "{'entity': 'B-PER', 'score': 0.9300542, 'index': 219, 'word': 'odNair', 'start': 907, 'end': 909}\n",
      "{'entity': 'B-ORG', 'score': 0.6144144, 'index': 224, 'word': 'Research', 'start': 924, 'end': 932}\n",
      "{'entity': 'B-ORG', 'score': 0.9932274, 'index': 226, 'word': 'GeojitFinancialServices', 'start': 936, 'end': 937}\n",
      "{'entity': 'B-LOC', 'score': 0.9964839, 'index': 270, 'word': 'India', 'start': 1131, 'end': 1136}\n",
      "{'entity': 'B-ORG', 'score': 0.99558663, 'index': 325, 'word': 'PrimeDatabase', 'start': 1374, 'end': 1379}\n",
      "{'entity': 'B-ORG', 'score': 0.9982206, 'index': 374, 'word': 'KFinTechnologies', 'start': 1591, 'end': 1592}\n",
      "{'entity': 'B-ORG', 'score': 0.9989241, 'index': 379, 'word': 'EliDEnElectronics', 'start': 1613, 'end': 1616}\n"
     ]
    }
   ],
   "source": [
    "nlp = pipeline(\"ner\", model=model, tokenizer=tokenizer)\n",
    "with open(r\"C:\\Users\\Dhruv\\Desktop\\entity_extraction\\articles\\article_24.txt\", \"r\", encoding = \"utf-8\") as f:\n",
    "  example = f.read()\n",
    "\n",
    "# print(nlp)\n",
    "\n",
    "ner_results = nlp(example)\n",
    "\n",
    "# print(len(ner_results))\n",
    "\n",
    "for entity in ner_results:\n",
    "    print(entity)\n",
    "\n",
    "for i, entity in enumerate(ner_results):\n",
    "    if entity['word'][:2] == '##':\n",
    "        entity['word'] = entity['word'][2:]\n",
    "        \n",
    "deleted = []\n",
    "\n",
    "for i, entity in enumerate(ner_results):\n",
    "    if(entity['entity'] == 'B-ORG' or entity['entity'] == 'B-PER' or entity['entity'] == 'B-MISC' or entity['entity'] == 'B-LOC' ):\n",
    "        start = i\n",
    "    if(entity['entity'] == 'I-ORG' \n",
    "       or entity['entity'] == 'I-PER' \n",
    "       or entity['entity'] == 'I-MISC' \n",
    "       or entity['entity'] == 'I-LOC'):\n",
    "        deleted.append(i)\n",
    "        ner_results[start]['word'] = ner_results[start]['word'] + entity['word']\n",
    "    \n",
    "print(deleted)\n",
    "\n",
    "new_ner_results = [ner_results[i] for i in range(len(ner_results)) if not (i in deleted)]\n",
    "        \n",
    "for entity in new_ner_results:\n",
    "    print(entity)\n",
    "\n"
   ]
  },
  {
   "cell_type": "code",
   "execution_count": 83,
   "id": "64d6ee56",
   "metadata": {},
   "outputs": [
    {
     "name": "stdout",
     "output_type": "stream",
     "text": [
      "['Ra', 'hulBhat', 'Ka', 'pilKaul']\n",
      "['IndiGo', 'BSE', 'CAPAIndia', 'In', 'diGo']\n",
      "[]\n"
     ]
    }
   ],
   "source": [
    "names = []\n",
    "company = []\n",
    "places = []\n",
    "\n",
    "for entity in new_ner_results:\n",
    "  if(entity['entity'] == 'B-PER' and names.count(entity['word']) == 0):\n",
    "    names.append(entity['word'])\n",
    "  if(entity['entity'] == 'B-ORG' and company.count(entity['word']) == 0):\n",
    "    company.append(entity['word'])\n",
    "  if(entity['entity'] == 'B-LOC' and places.count(entity['word']) == 0):\n",
    "    places.append(entity['word'])\n",
    "    \n",
    "print(names)\n",
    "print(company)\n",
    "print(places)"
   ]
  },
  {
   "cell_type": "code",
   "execution_count": 84,
   "id": "bc942d2a",
   "metadata": {},
   "outputs": [],
   "source": [
    "import openpyxl\n",
    "\n",
    "wb = openpyxl.load_workbook(r'C:\\Users\\Dhruv\\Desktop\\entity_extraction\\ner-bert\\entities-bert.xlsx')\n",
    "sheet = wb.active\n",
    "\n",
    "s_name = \"[\" + \", \".join(name for name in names) + \"]\"\n",
    "s_places = \"[\" + \", \".join(place for place in places) + \"]\" \n",
    "s_company = \"[\" + \", \".join(co for co in company) + \"]\" \n",
    "\n",
    "row = 4\n",
    "\n",
    "sheet.cell(row = row, column = 1).value = s_name\n",
    "sheet.cell(row = row, column = 2).value = s_company\n",
    "sheet.cell(row = row, column = 3).value = s_places\n",
    "\n",
    "\n",
    "\n",
    "wb.save(r\"C:\\Users\\Dhruv\\Desktop\\entity_extraction\\ner-bert\\entities-bert.xlsx\")\n"
   ]
  }
 ],
 "metadata": {
  "kernelspec": {
   "display_name": "Python 3 (ipykernel)",
   "language": "python",
   "name": "python3"
  },
  "language_info": {
   "codemirror_mode": {
    "name": "ipython",
    "version": 3
   },
   "file_extension": ".py",
   "mimetype": "text/x-python",
   "name": "python",
   "nbconvert_exporter": "python",
   "pygments_lexer": "ipython3",
   "version": "3.9.13"
  }
 },
 "nbformat": 4,
 "nbformat_minor": 5
}
